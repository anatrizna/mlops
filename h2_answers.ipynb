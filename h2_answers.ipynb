{
 "cells": [
  {
   "cell_type": "markdown",
   "id": "df55b0f1",
   "metadata": {},
   "source": [
    "mlflow, version 2.22.0\n",
    "2\n",
    "default-artifact-root\n",
    "5.335\n",
    "5.567"
   ]
  }
 ],
 "metadata": {
  "language_info": {
   "name": "python"
  }
 },
 "nbformat": 4,
 "nbformat_minor": 5
}
